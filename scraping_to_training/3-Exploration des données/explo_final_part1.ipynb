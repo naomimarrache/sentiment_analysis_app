{
 "cells": [
  {
   "cell_type": "code",
   "execution_count": null,
   "metadata": {},
   "outputs": [],
   "source": [
    "FICHIER LANCE AVEC NOUVEL BASE CLEAN ET LABELISATION BINAIRE"
   ]
  },
  {
   "cell_type": "raw",
   "metadata": {},
   "source": [
    "https://towardsdatascience.com/sentiment-analysis-with-text-mining-13dd2b33de27\n",
    "lien avec quelque infos un peux comme on a fait si besoin de plus de details pour redaction "
   ]
  },
  {
   "cell_type": "markdown",
   "metadata": {},
   "source": [
    "#### IL FAUT FAIRE UN AUTRE CODE DE NETTOYAGE AVANT AFIN DE SUPPRIME LES VALEUR VIDE, NUL, ET NON FRANCAISE "
   ]
  },
  {
   "cell_type": "markdown",
   "metadata": {},
   "source": [
    "# EXPLORATION DES DONNEES"
   ]
  },
  {
   "cell_type": "code",
   "execution_count": 2,
   "metadata": {},
   "outputs": [],
   "source": [
    "import csv\n",
    "import pandas as pd \n",
    "import numpy as np\n",
    "\n",
    "df_ini = pd.read_csv('all_reviews_fr_clean.csv',sep=';')\n",
    "#df_ini.info()\n"
   ]
  },
  {
   "cell_type": "code",
   "execution_count": 3,
   "metadata": {},
   "outputs": [
    {
     "name": "stdout",
     "output_type": "stream",
     "text": [
      "<class 'pandas.core.frame.DataFrame'>\n",
      "RangeIndex: 219428 entries, 0 to 219427\n",
      "Data columns (total 6 columns):\n",
      " #   Column       Non-Null Count   Dtype  \n",
      "---  ------       --------------   -----  \n",
      " 0   restau_ID    219428 non-null  int64  \n",
      " 1   Titre        219428 non-null  object \n",
      " 2   Note         219428 non-null  float64\n",
      " 3   Commentaire  219428 non-null  object \n",
      " 4   DateVisite   219428 non-null  object \n",
      " 5   restaurant   219428 non-null  object \n",
      "dtypes: float64(1), int64(1), object(4)\n",
      "memory usage: 10.0+ MB\n"
     ]
    }
   ],
   "source": [
    "df_ini.info()"
   ]
  },
  {
   "cell_type": "markdown",
   "metadata": {},
   "source": [
    "## Taille du dataSet"
   ]
  },
  {
   "cell_type": "code",
   "execution_count": 4,
   "metadata": {
    "scrolled": true
   },
   "outputs": [
    {
     "data": {
      "text/plain": [
       "(219428, 6)"
      ]
     },
     "execution_count": 4,
     "metadata": {},
     "output_type": "execute_result"
    }
   ],
   "source": [
    "df_ini.shape"
   ]
  },
  {
   "cell_type": "code",
   "execution_count": 5,
   "metadata": {},
   "outputs": [
    {
     "data": {
      "text/plain": [
       "Text(0.5, 1.0, 'Proportion en fonction des notes')"
      ]
     },
     "execution_count": 5,
     "metadata": {},
     "output_type": "execute_result"
    },
    {
     "data": {
      "image/png": "[encoded data removed]",
      "text/plain": [
       "<Figure size 432x288 with 1 Axes>"
      ]
     },
     "metadata": {
      "needs_background": "light"
     },
     "output_type": "display_data"
    }
   ],
   "source": [
    "import seaborn as sns\n",
    "import matplotlib.pyplot as plt\n",
    "\n",
    "p = sns.countplot(data=df_ini, x = 'Note')\n",
    "plt.title('Proportion en fonction des notes')"
   ]
  },
  {
   "cell_type": "code",
   "execution_count": 6,
   "metadata": {},
   "outputs": [],
   "source": [
    "def labeliser_1(note):\n",
    "    if note==3:\n",
    "        return 0\n",
    "    elif note==3.5:\n",
    "        return 0\n",
    "    elif note>3.5:\n",
    "        return 1\n",
    "    elif  note<3:\n",
    "        return -1"
   ]
  },
  {
   "cell_type": "markdown",
   "metadata": {},
   "source": [
    "# Proportion des commentaires par categorie"
   ]
  },
  {
   "cell_type": "code",
   "execution_count": 7,
   "metadata": {},
   "outputs": [
    {
     "data": {
      "text/plain": [
       "Text(0.5, 1.0, 'Proportion en fonction des catageories')"
      ]
     },
     "execution_count": 7,
     "metadata": {},
     "output_type": "execute_result"
    },
    {
     "data": {
      "image/png": "[encoded data removed]",
      "text/plain": [
       "<Figure size 432x288 with 1 Axes>"
      ]
     },
     "metadata": {
      "needs_background": "light"
     },
     "output_type": "display_data"
    }
   ],
   "source": [
    "\n",
    "\n",
    "def labeliser_2(note):\n",
    "    if note==3:\n",
    "        return -1\n",
    "    elif note==4:\n",
    "        return 0\n",
    "    elif note==3.5:\n",
    "        return 0\n",
    "    elif note>4:\n",
    "        return 1\n",
    "    elif  note<3:\n",
    "        return -1\n",
    "    \n",
    "    \n",
    "\n",
    "def labeliser_binaire(note):\n",
    "    if note<=3:\n",
    "        return -1\n",
    "    elif note>3:\n",
    "        return 1\n",
    "\n",
    "\n",
    "notes_labelisees = []\n",
    "for i in range(0,len(df_ini)):\n",
    "    notes_labelisees.append(labeliser_binaire(df_ini['Note'][i]))\n",
    "    \n",
    "   \n",
    "data = {'Titre':df_ini['Titre'],\n",
    "        'NoteLabel':notes_labelisees,\n",
    "        'DateVisite':df_ini['DateVisite'],\n",
    "        'Commentaire':df_ini['Commentaire'],\n",
    "        'restaurant':df_ini['restaurant']}\n",
    "\n",
    "df = pd.DataFrame(data,columns =[ 'Titre', 'NoteLabel', 'DateVisite' , 'Commentaire','restaurant'] )\n",
    "\n",
    "\n",
    "\n",
    "p = sns.countplot(data=df, x = 'NoteLabel')\n",
    "plt.title('Proportion en fonction des catageories')\n"
   ]
  },
  {
   "cell_type": "raw",
   "metadata": {},
   "source": [
    "si on scraper que le scommentaire du debut de tripadvisor comme les resto sont classe par leur notes on avait beaucop trop d'avis positif (cf diagramme) et don a scrapper a partir de l'indice 3000. \n",
    "quand on entrainer nos donnne sa faisait une accuracy super elever il predisée que des positifs etavce la matrice de conufsion cetais erreure il gfallais equilibrer. \n",
    "pour equilibrer on aurait pu equilibrer et prendre auttant de chauque commentaire de chaque categorie de l aplus petite . mais cela faisait un trop petit dataset et donc trop peux de donnée"
   ]
  },
  {
   "cell_type": "code",
   "execution_count": 8,
   "metadata": {},
   "outputs": [
    {
     "name": "stdout",
     "output_type": "stream",
     "text": [
      "PROPORTION DE COMMENTAIRE LABEL\n",
      "Positif:\n",
      "0.6908325282097089\n",
      "Negatif:\n",
      "0.30916747179029114\n"
     ]
    }
   ],
   "source": [
    "total = df.shape[0]\n",
    "pourcentage_pos = (df.loc[df['NoteLabel'] == 1].shape[0]/total )\n",
    "pourcentage_neg = (df.loc[df['NoteLabel'] == -1].shape[0]/total)\n",
    "print(\"PROPORTION DE COMMENTAIRE LABEL\")\n",
    "print(\"Positif:\")\n",
    "print(pourcentage_pos)\n",
    "print(\"Negatif:\")\n",
    "print(pourcentage_neg)"
   ]
  },
  {
   "cell_type": "markdown",
   "metadata": {},
   "source": [
    "# Distribution temporel du nombre d'avis par categorie"
   ]
  },
  {
   "cell_type": "code",
   "execution_count": 9,
   "metadata": {
    "scrolled": true
   },
   "outputs": [
    {
     "name": "stdout",
     "output_type": "stream",
     "text": [
      "oups\n",
      "oups\n",
      "oups\n"
     ]
    }
   ],
   "source": [
    "\n",
    "import datetime\n",
    "from time import gmtime, strftime\n",
    "\n",
    "\n",
    "dates = [] \n",
    "#date='janvier 2020'\n",
    "d=''\n",
    "for date in df['DateVisite']:\n",
    "    try:\n",
    "        d = date.replace('-',' 20').replace('janv', '01').replace('févr', '02').replace('mars', '03').replace('avr','04').replace('mai','05').replace('juin','06').replace('juil','07').replace('août','08').replace('sept','09').replace('oct','10').replace('nov','11').replace('déc','12')\n",
    "        dates.append(datetime.datetime.strptime(d,'%m %Y').date())\n",
    "    except ValueError:\n",
    "        dates.append(datetime.datetime.strptime('01 2020','%m %Y').date())\n",
    "        print('oups')\n",
    "   \n",
    "data_sorted_by_date = {'NoteLabel':notes_labelisees,'DateVisite':dates}\n",
    "\n",
    "df_sorted_by_date = pd.DataFrame(data_sorted_by_date,columns =[ 'NoteLabel', 'DateVisite' ] )\n",
    "\n",
    "\n",
    "\n"
   ]
  },
  {
   "cell_type": "code",
   "execution_count": 10,
   "metadata": {},
   "outputs": [
    {
     "data": {
      "image/png": "[encoded data removed]",
      "text/plain": [
       "<Figure size 432x288 with 1 Axes>"
      ]
     },
     "metadata": {
      "needs_background": "light"
     },
     "output_type": "display_data"
    },
    {
     "data": {
      "image/png": "[encoded data removed]",
      "text/plain": [
       "<Figure size 432x288 with 1 Axes>"
      ]
     },
     "metadata": {
      "needs_background": "light"
     },
     "output_type": "display_data"
    },
    {
     "data": {
      "text/plain": [
       "'\\nplt.figure()\\nsns.countplot(data=df_neu, x = \\'DateVisite\\')\\nplt.title(\"Distribution du nombre d\\'avis neutres en fonction du temps\")\\nplt.show()\\n'"
      ]
     },
     "execution_count": 10,
     "metadata": {},
     "output_type": "execute_result"
    }
   ],
   "source": [
    "\n",
    "\n",
    "df_pos = df_sorted_by_date.loc[df_sorted_by_date['NoteLabel'] == 1]\n",
    "df_neg = df_sorted_by_date.loc[df_sorted_by_date['NoteLabel'] == -1]\n",
    "#df_neu = df_sorted_by_date.loc[df_sorted_by_date['NoteLabel'] == 0]\n",
    "\n",
    "\n",
    "plt.figure()\n",
    "sns.countplot(data=df_neg, x = 'DateVisite')\n",
    "plt.title(\"Distribution du nombre d'avis negatifs en fonction du temps\")\n",
    "plt.show()\n",
    "\n",
    "plt.figure()\n",
    "sns.countplot(data=df_pos, x = 'DateVisite')\n",
    "plt.title(\"Distribution du nombre d'avis positifs en fonction du temps\")\n",
    "plt.show()\n",
    "\"\"\"\n",
    "plt.figure()\n",
    "sns.countplot(data=df_neu, x = 'DateVisite')\n",
    "plt.title(\"Distribution du nombre d'avis neutres en fonction du temps\")\n",
    "plt.show()\n",
    "\"\"\"\n"
   ]
  },
  {
   "cell_type": "raw",
   "metadata": {},
   "source": [
    " En observant le graphique temporel ( de 2007 à 2020 ), on se rend compte qu'il n'y a pas de relation notable entre les notes attribuées par les clients et le temps"
   ]
  },
  {
   "cell_type": "raw",
   "metadata": {},
   "source": [
    "Tout de même, nous nous sommes interroger à savoir si il n'y avait pas un lien temporel plus subtile, soit un lien entre les mois de l'année et le note. Pour cela nous avons grouper les commentaires par mois."
   ]
  },
  {
   "cell_type": "markdown",
   "metadata": {},
   "source": [
    "# Distribution des notes en fonction du mois "
   ]
  },
  {
   "cell_type": "code",
   "execution_count": 11,
   "metadata": {},
   "outputs": [
    {
     "name": "stdout",
     "output_type": "stream",
     "text": [
      "fÃ©vrier 2016\n",
      "dÃ©cembre 2015\n",
      "y a\n"
     ]
    },
    {
     "data": {
      "image/png": "[encoded data removed]",
      "text/plain": [
       "<Figure size 432x288 with 1 Axes>"
      ]
     },
     "metadata": {
      "needs_background": "light"
     },
     "output_type": "display_data"
    },
    {
     "data": {
      "image/png": "[encoded data removed]",
      "text/plain": [
       "<Figure size 432x288 with 1 Axes>"
      ]
     },
     "metadata": {
      "needs_background": "light"
     },
     "output_type": "display_data"
    },
    {
     "data": {
      "text/plain": [
       "'\\nplt.figure()\\nsns.countplot(data=df_neu, x = \\'DateVisite\\')\\nplt.title(\"Distribution du nombre d\\'avis neutres en fonction du mois\")\\nplt.show()\\n'"
      ]
     },
     "execution_count": 11,
     "metadata": {},
     "output_type": "execute_result"
    }
   ],
   "source": [
    "\n",
    "#GROUP BY MOIS\n",
    "\n",
    "\n",
    "dates = [] \n",
    "#date='janvier 2020'\n",
    "d=''\n",
    "for date in df['DateVisite']:\n",
    "    try:\n",
    "        d = date.replace('-',' 20').replace('janv', '01').replace('févr', '02').replace('mars', '03').replace('avr','04').replace('mai','05').replace('juin','06').replace('juil','07').replace('août','08').replace('sept','09').replace('oct','10').replace('nov','11').replace('déc','12')\n",
    "        dates.append(datetime.datetime.strptime(d, '%m %Y').date().month)\n",
    "    except ValueError:\n",
    "        dates.append(datetime.datetime.strptime('01 2020','%m %Y').date())\n",
    "        print(date)\n",
    "        \n",
    "data_sorted_by_month = {'NoteLabel':notes_labelisees,'DateVisite':dates}\n",
    "\n",
    "df_sorted_by_month = pd.DataFrame(data_sorted_by_month,columns =[ 'NoteLabel', 'DateVisite' ] )\n",
    "\n",
    "\n",
    "df_pos = df_sorted_by_month.loc[df_sorted_by_month['NoteLabel'] == 1]\n",
    "df_neg = df_sorted_by_month.loc[df_sorted_by_month['NoteLabel'] == -1]\n",
    "#df_neu = df_sorted_by_month.loc[df_sorted_by_month['NoteLabel'] == 0]\n",
    "\n",
    "\n",
    "\n",
    "plt.figure()\n",
    "sns.countplot(data=df_neg, x = 'DateVisite')\n",
    "plt.title(\"Distribution du nombre d'avis negatifs en fonction du mois\")\n",
    "plt.show()\n",
    "\n",
    "plt.figure()\n",
    "sns.countplot(data=df_pos, x = 'DateVisite')\n",
    "plt.title(\"Distribution du nombre d'avis positifs en fonction du mois\")\n",
    "plt.show()\n",
    "\n",
    "\"\"\"\n",
    "plt.figure()\n",
    "sns.countplot(data=df_neu, x = 'DateVisite')\n",
    "plt.title(\"Distribution du nombre d'avis neutres en fonction du mois\")\n",
    "plt.show()\n",
    "\"\"\"\n",
    "\n"
   ]
  },
  {
   "cell_type": "raw",
   "metadata": {},
   "source": [
    " La piste temporel ne semble pas utile à aborder, vu que les tendances sont similaires pour chaque categorie "
   ]
  },
  {
   "cell_type": "markdown",
   "metadata": {},
   "source": [
    "# Relation Longueur commentaire et note "
   ]
  },
  {
   "cell_type": "raw",
   "metadata": {},
   "source": [
    "Une autre piste  a été envisagé. y a t'il une relation entre la longueur du commentaire et la note attribué par le client? "
   ]
  },
  {
   "cell_type": "code",
   "execution_count": 12,
   "metadata": {
    "scrolled": true
   },
   "outputs": [
    {
     "data": {
      "text/plain": [
       "<matplotlib.axes._subplots.AxesSubplot at 0x20c6bcdc3c8>"
      ]
     },
     "execution_count": 12,
     "metadata": {},
     "output_type": "execute_result"
    },
    {
     "data": {
      "image/png": "[encoded data removed]",
      "text/plain": [
       "<Figure size 432x288 with 1 Axes>"
      ]
     },
     "metadata": {
      "needs_background": "light"
     },
     "output_type": "display_data"
    },
    {
     "data": {
      "image/png": "[encoded data removed]",
      "text/plain": [
       "<Figure size 432x288 with 1 Axes>"
      ]
     },
     "metadata": {
      "needs_background": "light"
     },
     "output_type": "display_data"
    }
   ],
   "source": [
    "\n",
    "#LONGUEUR DE COMMETAIRE ET OPINION\n",
    "longueurs = []\n",
    "for review in df['Commentaire']:\n",
    "    longueurs.append(len(review))\n",
    "   \n",
    "\n",
    "label = df['NoteLabel']\n",
    "\n",
    "\n",
    "plt.scatter(label,longueurs,alpha=0.3)\n",
    "     \n",
    "   \n",
    "#plt.scatter(df_pos.mean()[0],df_pos.mean()[1],color='green')\n",
    "\n",
    "\n",
    "data_longueur = {'NoteLabel':label,'LongueurCommentaire':longueurs}\n",
    "\n",
    "df_longueur = pd.DataFrame(data_longueur,columns =[ 'NoteLabel', 'LongueurCommentaire' ] )\n",
    "\n",
    "\n",
    "\n",
    "\n",
    "df_pos = df_longueur.loc[df_longueur['NoteLabel'] == 1]\n",
    "df_neg = df_longueur.loc[df_longueur['NoteLabel'] == -1]\n",
    "df_neu = df_longueur.loc[df_longueur['NoteLabel'] == 0]\n",
    "\n",
    "df_longueur.boxplot(by ='NoteLabel', column =['LongueurCommentaire'], grid = False) \n",
    "\n"
   ]
  },
  {
   "cell_type": "code",
   "execution_count": 15,
   "metadata": {},
   "outputs": [
    {
     "data": {
      "text/plain": [
       "<matplotlib.axes._subplots.AxesSubplot at 0x20c6a964f48>"
      ]
     },
     "execution_count": 15,
     "metadata": {},
     "output_type": "execute_result"
    },
    {
     "data": {
      "image/png": "[encoded data removed]",
      "text/plain": [
       "<Figure size 432x288 with 1 Axes>"
      ]
     },
     "metadata": {
      "needs_background": "light"
     },
     "output_type": "display_data"
    }
   ],
   "source": [
    "df_valeurs_centrees = df_longueur.loc[df_longueur['LongueurCommentaire'] <700]\n",
    "df_valeurs_centrees.boxplot(by ='NoteLabel', column =['LongueurCommentaire'], grid = False)"
   ]
  },
  {
   "cell_type": "raw",
   "metadata": {},
   "source": [
    "Sur le premier graphique on peut voir que (même qi il y a certaine aberantes qui n sont pas à prendre en compte), globalment la longueur des commentaire ne semble pas correler avec le label.\n",
    "Dans le doute, on a voulu analyser de plus près la moyenne, qui finalement restait proche pour chaque label."
   ]
  },
  {
   "cell_type": "code",
   "execution_count": 12,
   "metadata": {
    "scrolled": true
   },
   "outputs": [
    {
     "data": {
      "text/html": [
       "<div>\n",
       "<style scoped>\n",
       "    .dataframe tbody tr th:only-of-type {\n",
       "        vertical-align: middle;\n",
       "    }\n",
       "\n",
       "    .dataframe tbody tr th {\n",
       "        vertical-align: top;\n",
       "    }\n",
       "\n",
       "    .dataframe thead th {\n",
       "        text-align: right;\n",
       "    }\n",
       "</style>\n",
       "<table border=\"1\" class=\"dataframe\">\n",
       "  <thead>\n",
       "    <tr style=\"text-align: right;\">\n",
       "      <th></th>\n",
       "      <th>NoteLabel</th>\n",
       "      <th>LongueurCommentaire</th>\n",
       "    </tr>\n",
       "  </thead>\n",
       "  <tbody>\n",
       "    <tr>\n",
       "      <th>count</th>\n",
       "      <td>93241.0</td>\n",
       "      <td>93241.000000</td>\n",
       "    </tr>\n",
       "    <tr>\n",
       "      <th>mean</th>\n",
       "      <td>1.0</td>\n",
       "      <td>334.909139</td>\n",
       "    </tr>\n",
       "    <tr>\n",
       "      <th>std</th>\n",
       "      <td>0.0</td>\n",
       "      <td>278.654252</td>\n",
       "    </tr>\n",
       "    <tr>\n",
       "      <th>min</th>\n",
       "      <td>1.0</td>\n",
       "      <td>8.000000</td>\n",
       "    </tr>\n",
       "    <tr>\n",
       "      <th>25%</th>\n",
       "      <td>1.0</td>\n",
       "      <td>170.000000</td>\n",
       "    </tr>\n",
       "    <tr>\n",
       "      <th>50%</th>\n",
       "      <td>1.0</td>\n",
       "      <td>261.000000</td>\n",
       "    </tr>\n",
       "    <tr>\n",
       "      <th>75%</th>\n",
       "      <td>1.0</td>\n",
       "      <td>410.000000</td>\n",
       "    </tr>\n",
       "    <tr>\n",
       "      <th>max</th>\n",
       "      <td>1.0</td>\n",
       "      <td>21603.000000</td>\n",
       "    </tr>\n",
       "  </tbody>\n",
       "</table>\n",
       "</div>"
      ],
      "text/plain": [
       "       NoteLabel  LongueurCommentaire\n",
       "count    93241.0         93241.000000\n",
       "mean         1.0           334.909139\n",
       "std          0.0           278.654252\n",
       "min          1.0             8.000000\n",
       "25%          1.0           170.000000\n",
       "50%          1.0           261.000000\n",
       "75%          1.0           410.000000\n",
       "max          1.0         21603.000000"
      ]
     },
     "execution_count": 12,
     "metadata": {},
     "output_type": "execute_result"
    }
   ],
   "source": [
    "df_pos.describe()"
   ]
  },
  {
   "cell_type": "code",
   "execution_count": 43,
   "metadata": {
    "scrolled": true
   },
   "outputs": [
    {
     "data": {
      "text/html": [
       "<div>\n",
       "<style scoped>\n",
       "    .dataframe tbody tr th:only-of-type {\n",
       "        vertical-align: middle;\n",
       "    }\n",
       "\n",
       "    .dataframe tbody tr th {\n",
       "        vertical-align: top;\n",
       "    }\n",
       "\n",
       "    .dataframe thead th {\n",
       "        text-align: right;\n",
       "    }\n",
       "</style>\n",
       "<table border=\"1\" class=\"dataframe\">\n",
       "  <thead>\n",
       "    <tr style=\"text-align: right;\">\n",
       "      <th></th>\n",
       "      <th>NoteLabel</th>\n",
       "      <th>LongueurCommentaire</th>\n",
       "    </tr>\n",
       "  </thead>\n",
       "  <tbody>\n",
       "    <tr>\n",
       "      <th>count</th>\n",
       "      <td>67840.0</td>\n",
       "      <td>67840.000000</td>\n",
       "    </tr>\n",
       "    <tr>\n",
       "      <th>mean</th>\n",
       "      <td>-1.0</td>\n",
       "      <td>451.846993</td>\n",
       "    </tr>\n",
       "    <tr>\n",
       "      <th>std</th>\n",
       "      <td>0.0</td>\n",
       "      <td>373.749651</td>\n",
       "    </tr>\n",
       "    <tr>\n",
       "      <th>min</th>\n",
       "      <td>-1.0</td>\n",
       "      <td>8.000000</td>\n",
       "    </tr>\n",
       "    <tr>\n",
       "      <th>25%</th>\n",
       "      <td>-1.0</td>\n",
       "      <td>216.000000</td>\n",
       "    </tr>\n",
       "    <tr>\n",
       "      <th>50%</th>\n",
       "      <td>-1.0</td>\n",
       "      <td>345.000000</td>\n",
       "    </tr>\n",
       "    <tr>\n",
       "      <th>75%</th>\n",
       "      <td>-1.0</td>\n",
       "      <td>560.000000</td>\n",
       "    </tr>\n",
       "    <tr>\n",
       "      <th>max</th>\n",
       "      <td>-1.0</td>\n",
       "      <td>9145.000000</td>\n",
       "    </tr>\n",
       "  </tbody>\n",
       "</table>\n",
       "</div>"
      ],
      "text/plain": [
       "       NoteLabel  LongueurCommentaire\n",
       "count    67840.0         67840.000000\n",
       "mean        -1.0           451.846993\n",
       "std          0.0           373.749651\n",
       "min         -1.0             8.000000\n",
       "25%         -1.0           216.000000\n",
       "50%         -1.0           345.000000\n",
       "75%         -1.0           560.000000\n",
       "max         -1.0          9145.000000"
      ]
     },
     "execution_count": 43,
     "metadata": {},
     "output_type": "execute_result"
    }
   ],
   "source": [
    "df_neg.describe()"
   ]
  },
  {
   "cell_type": "code",
   "execution_count": 48,
   "metadata": {},
   "outputs": [
    {
     "data": {
      "image/png": "[encoded data removed]",
      "text/plain": [
       "<Figure size 432x288 with 1 Axes>"
      ]
     },
     "metadata": {
      "needs_background": "light"
     },
     "output_type": "display_data"
    },
    {
     "data": {
      "image/png": "[encoded data removed]",
      "text/plain": [
       "<Figure size 1080x360 with 1 Axes>"
      ]
     },
     "metadata": {
      "needs_background": "light"
     },
     "output_type": "display_data"
    },
    {
     "name": "stdout",
     "output_type": "stream",
     "text": [
      "count    151588.000000\n",
      "mean        332.365339\n",
      "std         268.040591\n",
      "min           8.000000\n",
      "25%         171.000000\n",
      "50%         260.000000\n",
      "75%         406.000000\n",
      "max       21603.000000\n",
      "Name: LongueurCommentaire, dtype: float64\n"
     ]
    },
    {
     "data": {
      "image/png": "[encoded data removed]",
      "text/plain": [
       "<Figure size 1080x360 with 1 Axes>"
      ]
     },
     "metadata": {
      "needs_background": "light"
     },
     "output_type": "display_data"
    },
    {
     "name": "stdout",
     "output_type": "stream",
     "text": [
      "count    67840.000000\n",
      "mean       451.846993\n",
      "std        373.749651\n",
      "min          8.000000\n",
      "25%        216.000000\n",
      "50%        345.000000\n",
      "75%        560.000000\n",
      "max       9145.000000\n",
      "Name: LongueurCommentaire, dtype: float64\n"
     ]
    },
    {
     "data": {
      "text/plain": [
       "'\\nplt.figure(figsize=(15,5))\\nplt.hist(df_neu.LongueurCommentaire, bins=200, density=True)\\nplt.show()\\n\\nprint(df_neu.LongueurCommentaire.describe())\\n'"
      ]
     },
     "execution_count": 48,
     "metadata": {},
     "output_type": "execute_result"
    }
   ],
   "source": [
    "\n",
    "#LONGUEUR DE COMMETAIRE ET OPINION\n",
    "\n",
    "\n",
    "plt.figure()\n",
    "plt.hist(longueurs, bins=200, density=True)\n",
    "plt.title(\"Distribution de la longueur des commentaires\")\n",
    "plt.show()\n",
    "\n",
    "\n",
    "\n",
    "plt.figure(figsize=(15,5))\n",
    "plt.hist(df_pos.LongueurCommentaire, bins=200, density=True)\n",
    "plt.title(\"Distribution de la longueur des commentaires positifs\")\n",
    "plt.show()\n",
    "print(df_pos.LongueurCommentaire.describe())\n",
    "\n",
    "plt.figure(figsize=(15,5))\n",
    "plt.hist(df_neg.LongueurCommentaire, bins=200, density=True)\n",
    "plt.title(\"Distribution de la longueur des commentaires positifs\")\n",
    "plt.show()\n",
    "print(df_neg.LongueurCommentaire.describe())\n",
    "\n",
    "\n",
    "\"\"\"\n",
    "plt.figure(figsize=(15,5))\n",
    "plt.hist(df_neu.LongueurCommentaire, bins=200, density=True)\n",
    "plt.show()\n",
    "\n",
    "print(df_neu.LongueurCommentaire.describe())\n",
    "\"\"\"\n"
   ]
  },
  {
   "cell_type": "markdown",
   "metadata": {},
   "source": [
    "Interpretation : \n",
    "taille(Commentaire positif) < taille(Commentaire negatif) <  taille(Commentaire Neutre)\n",
    "Cependant en tenant compte de la distribution, il semble compliqué d'y voir une correlation entre la longueur du commentaire et sa note.\n",
    "    \n",
    "    \n"
   ]
  },
  {
   "cell_type": "markdown",
   "metadata": {},
   "source": [
    "# Matrice de correlation"
   ]
  },
  {
   "cell_type": "code",
   "execution_count": 69,
   "metadata": {
    "scrolled": false
   },
   "outputs": [
    {
     "name": "stdout",
     "output_type": "stream",
     "text": [
      "9\n"
     ]
    }
   ],
   "source": [
    "i = 0\n",
    "for mois in df['Mois']:\n",
    "    if type(mois)!=int:\n",
    "        df['Mois'][i]=df['Mois'][i-1]\n",
    "    i=i+1\n",
    "print(df['Mois'][18792])"
   ]
  },
  {
   "cell_type": "code",
   "execution_count": 71,
   "metadata": {},
   "outputs": [
    {
     "name": "stdout",
     "output_type": "stream",
     "text": [
      "9\n"
     ]
    }
   ],
   "source": [
    "for mois in df['Mois']:\n",
    "    if type(mois)!=int:\n",
    "        print(mois)\n",
    "    i=i+1\n",
    "print(df['Mois'][18792])\n"
   ]
  },
  {
   "cell_type": "code",
   "execution_count": 79,
   "metadata": {},
   "outputs": [
    {
     "data": {
      "text/plain": [
       "\"\\ndata_corr = {'NoteLabel':df['NoteLabel'],'Mois':df['Mois'],'Longueur':df['Longueur']}\\n\\n#data_corr = {'NoteLabel':df['NoteLabel'],'Longueur':df['Longueur']}\\n\\ndf_corr = pd.DataFrame(data_corr,columns =[ 'NoteLabel', 'Mois' , 'Longueur'] )\\n#df_corr = pd.DataFrame(data_corr,columns =[ 'NoteLabel', 'Longueur'] )\\n\\nZ = sc.fit_transform(df_corr)\\ndf_corr2 = pd.DataFrame(Z,columns =[ 'NoteLabel', 'Mois' , 'Longueur'] )\\n#df_corr2 = pd.DataFrame(Z,columns =[ 'NoteLabel', 'Longueur'] )\\nplt.figure()\\nsns.heatmap(df_corr2.corr(), annot=True, cmap='Greens')\\n\""
      ]
     },
     "execution_count": 79,
     "metadata": {},
     "output_type": "execute_result"
    },
    {
     "data": {
      "image/png": "[encoded data removed]",
      "text/plain": [
       "<Figure size 432x288 with 2 Axes>"
      ]
     },
     "metadata": {
      "needs_background": "light"
     },
     "output_type": "display_data"
    }
   ],
   "source": [
    "\n",
    "#TRACER MATRICE DE CORRRELATION\n",
    "\n",
    "import sklearn\n",
    "from sklearn.preprocessing import StandardScaler\n",
    "sc = StandardScaler()\n",
    "\n",
    "\n",
    "df['Longueur'] = longueurs\n",
    "df['Mois'] = dates\n",
    "\n",
    "sns.heatmap(df.corr(), annot=True, cmap='Greens')\n",
    "\n",
    "\n",
    "\"\"\"\n",
    "data_corr = {'NoteLabel':df['NoteLabel'],'Mois':df['Mois'],'Longueur':df['Longueur']}\n",
    "\n",
    "#data_corr = {'NoteLabel':df['NoteLabel'],'Longueur':df['Longueur']}\n",
    "\n",
    "df_corr = pd.DataFrame(data_corr,columns =[ 'NoteLabel', 'Mois' , 'Longueur'] )\n",
    "#df_corr = pd.DataFrame(data_corr,columns =[ 'NoteLabel', 'Longueur'] )\n",
    "\n",
    "Z = sc.fit_transform(df_corr)\n",
    "df_corr2 = pd.DataFrame(Z,columns =[ 'NoteLabel', 'Mois' , 'Longueur'] )\n",
    "#df_corr2 = pd.DataFrame(Z,columns =[ 'NoteLabel', 'Longueur'] )\n",
    "plt.figure()\n",
    "sns.heatmap(df_corr2.corr(), annot=True, cmap='Greens')\n",
    "\"\"\"\n"
   ]
  },
  {
   "cell_type": "markdown",
   "metadata": {},
   "source": [
    "Chelou\n",
    "Pb de code (venant de nous) ou pas de correlation ??\n",
    "n'y a t il vraiment pas de correlation entre longueur et note ??\n"
   ]
  },
  {
   "cell_type": "markdown",
   "metadata": {},
   "source": [
    "pas vraiment de correlation directe\n",
    "si c neg -> tendance tres long"
   ]
  },
  {
   "cell_type": "markdown",
   "metadata": {},
   "source": [
    ""
   ]
  },
  {
   "cell_type": "code",
   "execution_count": 73,
   "metadata": {},
   "outputs": [
    {
     "data": {
      "text/plain": [
       "8"
      ]
     },
     "execution_count": 73,
     "metadata": {},
     "output_type": "execute_result"
    }
   ],
   "source": []
  },
  {
   "cell_type": "code",
   "execution_count": null,
   "metadata": {},
   "outputs": [],
   "source": []
  }
 ],
 "metadata": {
  "kernelspec": {
   "display_name": "Python 3",
   "language": "python",
   "name": "python3"
  },
  "language_info": {
   "codemirror_mode": {
    "name": "ipython",
    "version": 3
   },
   "file_extension": ".py",
   "mimetype": "text/x-python",
   "name": "python",
   "nbconvert_exporter": "python",
   "pygments_lexer": "ipython3",
   "version": "3.7.6"
  }
 },
 "nbformat": 4,
 "nbformat_minor": 4
}
