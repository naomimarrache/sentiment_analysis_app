{
 "cells": [
  {
   "cell_type": "code",
   "execution_count": 93,
   "metadata": {},
   "outputs": [
    {
     "name": "stdout",
     "output_type": "stream",
     "text": [
      "<class 'pandas.core.frame.DataFrame'>\n",
      "RangeIndex: 219780 entries, 0 to 219779\n",
      "Data columns (total 6 columns):\n",
      " #   Column       Non-Null Count   Dtype  \n",
      "---  ------       --------------   -----  \n",
      " 0   restau_ID    219780 non-null  int64  \n",
      " 1   Titre        219757 non-null  object \n",
      " 2   Note         219780 non-null  float64\n",
      " 3   DateVisite   219780 non-null  object \n",
      " 4   Commentaire  219771 non-null  object \n",
      " 5   restaurant   219780 non-null  object \n",
      "dtypes: float64(1), int64(1), object(4)\n",
      "memory usage: 10.1+ MB\n",
      "\n",
      "\n",
      "<class 'pandas.core.frame.DataFrame'>\n",
      "RangeIndex: 190298 entries, 0 to 190297\n",
      "Data columns (total 6 columns):\n",
      " #   Column       Non-Null Count   Dtype  \n",
      "---  ------       --------------   -----  \n",
      " 0   restau_ID    190298 non-null  int64  \n",
      " 1   Titre        190297 non-null  object \n",
      " 2   Note         190298 non-null  float64\n",
      " 3   DateVisite   190298 non-null  object \n",
      " 4   Commentaire  190298 non-null  object \n",
      " 5   restaurant   190298 non-null  object \n",
      "dtypes: float64(1), int64(1), object(4)\n",
      "memory usage: 8.7+ MB\n"
     ]
    }
   ],
   "source": [
    "import csv\n",
    "import pandas as pd \n",
    "import numpy as np\n",
    "\n",
    "# Chargemet des deux fichiers de \"reviews\" dans deux DataFrame différents\n",
    "df_ini_Fr = pd.read_csv('all_restau_reviews_fr_v1.csv', sep=';')\n",
    "\n",
    "df_ini_En = pd.read_csv('all_restau_reviews_English.csv', sep=';')\n",
    "\n",
    "# Affichage des info des dataFrames avant Netoyage \n",
    "df_ini_Fr.info()\n",
    "print('\\n')\n",
    "df_ini_En.info()"
   ]
  },
  {
   "cell_type": "code",
   "execution_count": 94,
   "metadata": {},
   "outputs": [],
   "source": [
    "# Supprimer les lignes ayant une valeur \"nan\" sur l'une des colonnes\n",
    "df_ini_Fr.dropna(axis=0, how='any', inplace=True)\n",
    "\n",
    "df_ini_En.dropna(axis=0, how='any', inplace=True)"
   ]
  },
  {
   "cell_type": "code",
   "execution_count": 95,
   "metadata": {},
   "outputs": [
    {
     "name": "stdout",
     "output_type": "stream",
     "text": [
      "<class 'pandas.core.frame.DataFrame'>\n",
      "Int64Index: 219757 entries, 0 to 219779\n",
      "Data columns (total 6 columns):\n",
      " #   Column       Non-Null Count   Dtype  \n",
      "---  ------       --------------   -----  \n",
      " 0   restau_ID    219757 non-null  int64  \n",
      " 1   Titre        219757 non-null  object \n",
      " 2   Note         219757 non-null  float64\n",
      " 3   DateVisite   219757 non-null  object \n",
      " 4   Commentaire  219757 non-null  object \n",
      " 5   restaurant   219757 non-null  object \n",
      "dtypes: float64(1), int64(1), object(4)\n",
      "memory usage: 11.7+ MB\n",
      "\n",
      "\n",
      "<class 'pandas.core.frame.DataFrame'>\n",
      "Int64Index: 190297 entries, 0 to 190297\n",
      "Data columns (total 6 columns):\n",
      " #   Column       Non-Null Count   Dtype  \n",
      "---  ------       --------------   -----  \n",
      " 0   restau_ID    190297 non-null  int64  \n",
      " 1   Titre        190297 non-null  object \n",
      " 2   Note         190297 non-null  float64\n",
      " 3   DateVisite   190297 non-null  object \n",
      " 4   Commentaire  190297 non-null  object \n",
      " 5   restaurant   190297 non-null  object \n",
      "dtypes: float64(1), int64(1), object(4)\n",
      "memory usage: 10.2+ MB\n"
     ]
    }
   ],
   "source": [
    "df_ini_Fr.info()\n",
    "print('\\n')\n",
    "df_ini_En.info()"
   ]
  },
  {
   "cell_type": "code",
   "execution_count": 96,
   "metadata": {},
   "outputs": [],
   "source": [
    "###### ~~~~ Supprimer les lignes ayant une langue différente de \"Fr\" et de \"En\" respectivement ~~~~#####  \n",
    "import langid \n",
    "\n",
    "# récupérer, pour chaque dataframe, la langue de chaque commentaire dans une nouvelle colonne\n",
    "df_ini_Fr['lang'] = df_ini_Fr['Commentaire'].apply( lambda x : langid.classify(x))\n",
    "\n",
    "df_ini_En['lang'] = df_ini_En['Commentaire'].apply(lambda x : langid.classify(x))\n"
   ]
  },
  {
   "cell_type": "code",
   "execution_count": 97,
   "metadata": {},
   "outputs": [
    {
     "name": "stdout",
     "output_type": "stream",
     "text": [
      "Int64Index([  1554,   2058,   2651,   3400,   4658,   5990,   6099,   6234,\n",
      "              6242,   7935,\n",
      "            ...\n",
      "            206328, 208341, 209096, 215290, 216951, 217247, 218576, 219732,\n",
      "            219745, 219765],\n",
      "           dtype='int64', length=329)\n",
      "\n",
      "\n",
      "Int64Index([   423,    526,    628,    750,   1643,   1674,   1679,   1683,\n",
      "              1757,   1973,\n",
      "            ...\n",
      "            186664, 186771, 186822, 186831, 187697, 188213, 188619, 189339,\n",
      "            189810, 189969],\n",
      "           dtype='int64', length=402)\n"
     ]
    }
   ],
   "source": [
    "# récupérer les index des lignes dont les commentaires ne sont pas en francais ou en anglais repectivement \n",
    "index_not_Fr = df_ini_Fr[df_ini_Fr['lang'].apply(lambda x: str(x).split(',')[0][1:]) != \"'fr'\" ].index \n",
    "\n",
    "index_not_En = df_ini_En[df_ini_En['lang'].apply(lambda x: str(x).split(',')[0][1:]) != \"'en'\" ].index \n",
    "\n",
    "# print la liste des indexes pour vérification \n",
    "print (index_not_Fr)\n",
    "print('\\n')\n",
    "print(index_not_En)"
   ]
  },
  {
   "cell_type": "code",
   "execution_count": 98,
   "metadata": {},
   "outputs": [],
   "source": [
    "# Supprimer les indexes trouvées dans les dataFrame en question  \n",
    "df_ini_Fr.drop(index_not_Fr, inplace = True)\n",
    "\n",
    "df_ini_En.drop(index_not_En, inplace = True)\n"
   ]
  },
  {
   "cell_type": "code",
   "execution_count": 99,
   "metadata": {},
   "outputs": [
    {
     "name": "stdout",
     "output_type": "stream",
     "text": [
      "<class 'pandas.core.frame.DataFrame'>\n",
      "Int64Index: 219428 entries, 0 to 219779\n",
      "Data columns (total 7 columns):\n",
      " #   Column       Non-Null Count   Dtype  \n",
      "---  ------       --------------   -----  \n",
      " 0   restau_ID    219428 non-null  int64  \n",
      " 1   Titre        219428 non-null  object \n",
      " 2   Note         219428 non-null  float64\n",
      " 3   DateVisite   219428 non-null  object \n",
      " 4   Commentaire  219428 non-null  object \n",
      " 5   restaurant   219428 non-null  object \n",
      " 6   lang         219428 non-null  object \n",
      "dtypes: float64(1), int64(1), object(5)\n",
      "memory usage: 13.4+ MB\n",
      "\n",
      "\n",
      "<class 'pandas.core.frame.DataFrame'>\n",
      "Int64Index: 189895 entries, 0 to 190297\n",
      "Data columns (total 7 columns):\n",
      " #   Column       Non-Null Count   Dtype  \n",
      "---  ------       --------------   -----  \n",
      " 0   restau_ID    189895 non-null  int64  \n",
      " 1   Titre        189895 non-null  object \n",
      " 2   Note         189895 non-null  float64\n",
      " 3   DateVisite   189895 non-null  object \n",
      " 4   Commentaire  189895 non-null  object \n",
      " 5   restaurant   189895 non-null  object \n",
      " 6   lang         189895 non-null  object \n",
      "dtypes: float64(1), int64(1), object(5)\n",
      "memory usage: 11.6+ MB\n"
     ]
    }
   ],
   "source": [
    "# Affichage des info des dataFrames après Netoyage \n",
    "df_ini_Fr.info()\n",
    "print('\\n')\n",
    "df_ini_En.info()"
   ]
  },
  {
   "cell_type": "code",
   "execution_count": null,
   "metadata": {},
   "outputs": [],
   "source": [
    "# Suppression des lignes \"duplicata\" dans chacune des DataFrame \n",
    "df_ini_Fr.drop_duplicates(keep='first',inplace=True)\n",
    "\n",
    "df_ini_En.drop_duplicates(keep='first',inplace=True)\n"
   ]
  },
  {
   "cell_type": "code",
   "execution_count": 100,
   "metadata": {},
   "outputs": [],
   "source": [
    "# Enregistrer les DataFrame résultats dans deux nouveaux fichiers CSV \n",
    "columns=['restau_ID','Titre', 'Note', 'Commentaire', 'DateVisite', 'restaurant']\n",
    "\n",
    "df_ini_Fr.to_csv('all_reviews_fr_clean.csv', header=True, index = False, columns=columns, encoding='utf-8-sig', sep =';' )\n",
    "\n",
    "df_ini_En.to_csv('all_reviews_En_clean.csv', header=True, index = False, columns=columns, encoding='utf-8-sig', sep =';' )\n"
   ]
  },
  {
   "cell_type": "code",
   "execution_count": null,
   "metadata": {},
   "outputs": [],
   "source": []
  }
 ],
 "metadata": {
  "kernelspec": {
   "display_name": "Python 3",
   "language": "python",
   "name": "python3"
  },
  "language_info": {
   "codemirror_mode": {
    "name": "ipython",
    "version": 3
   },
   "file_extension": ".py",
   "mimetype": "text/x-python",
   "name": "python",
   "nbconvert_exporter": "python",
   "pygments_lexer": "ipython3",
   "version": "3.7.6"
  }
 },
 "nbformat": 4,
 "nbformat_minor": 4
}
